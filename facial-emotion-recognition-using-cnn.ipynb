{
 "cells": [
  {
   "cell_type": "code",
   "execution_count": 1,
   "id": "ca1fa091",
   "metadata": {
    "_cell_guid": "b1076dfc-b9ad-4769-8c92-a6c4dae69d19",
    "_uuid": "8f2839f25d086af736a60e9eeb907d3b93b6e0e5",
    "execution": {
     "iopub.execute_input": "2022-12-19T17:23:14.231721Z",
     "iopub.status.busy": "2022-12-19T17:23:14.231002Z",
     "iopub.status.idle": "2022-12-19T17:23:14.243786Z",
     "shell.execute_reply": "2022-12-19T17:23:14.242872Z"
    },
    "papermill": {
     "duration": 0.02637,
     "end_time": "2022-12-19T17:23:14.246938",
     "exception": false,
     "start_time": "2022-12-19T17:23:14.220568",
     "status": "completed"
    },
    "tags": []
   },
   "outputs": [
    {
     "name": "stdout",
     "output_type": "stream",
     "text": [
      "/kaggle/input/challenges-in-representation-learning-facial-expression-recognition-challenge/icml_face_data.csv\n",
      "/kaggle/input/challenges-in-representation-learning-facial-expression-recognition-challenge/fer2013.tar.gz\n",
      "/kaggle/input/challenges-in-representation-learning-facial-expression-recognition-challenge/example_submission.csv\n",
      "/kaggle/input/challenges-in-representation-learning-facial-expression-recognition-challenge/train.csv\n",
      "/kaggle/input/challenges-in-representation-learning-facial-expression-recognition-challenge/test.csv\n"
     ]
    }
   ],
   "source": [
    "# This Python 3 environment comes with many helpful analytics libraries installed\n",
    "# It is defined by the kaggle/python Docker image: https://github.com/kaggle/docker-python\n",
    "# For example, here's several helpful packages to load\n",
    "\n",
    "import numpy as np # linear algebra\n",
    "import pandas as pd # data processing, CSV file I/O (e.g. pd.read_csv)\n",
    "\n",
    "# Input data files are available in the read-only \"../input/\" directory\n",
    "# For example, running this (by clicking run or pressing Shift+Enter) will list all files under the input directory\n",
    "\n",
    "import os\n",
    "for dirname, _, filenames in os.walk('/kaggle/input'):\n",
    "    for filename in filenames:\n",
    "        print(os.path.join(dirname, filename))\n",
    "\n",
    "# You can write up to 20GB to the current directory (/kaggle/working/) that gets preserved as output when you create a version using \"Save & Run All\" \n",
    "# You can also write temporary files to /kaggle/temp/, but they won't be saved outside of the current session"
   ]
  },
  {
   "cell_type": "markdown",
   "id": "1d51bbfa",
   "metadata": {
    "papermill": {
     "duration": 0.007664,
     "end_time": "2022-12-19T17:23:14.263564",
     "exception": false,
     "start_time": "2022-12-19T17:23:14.255900",
     "status": "completed"
    },
    "tags": []
   },
   "source": [
    "# Importing the libraries"
   ]
  },
  {
   "cell_type": "code",
   "execution_count": 2,
   "id": "79047bc7",
   "metadata": {
    "execution": {
     "iopub.execute_input": "2022-12-19T17:23:14.280494Z",
     "iopub.status.busy": "2022-12-19T17:23:14.279762Z",
     "iopub.status.idle": "2022-12-19T17:23:20.253636Z",
     "shell.execute_reply": "2022-12-19T17:23:20.252673Z"
    },
    "papermill": {
     "duration": 5.98476,
     "end_time": "2022-12-19T17:23:20.256104",
     "exception": false,
     "start_time": "2022-12-19T17:23:14.271344",
     "status": "completed"
    },
    "tags": []
   },
   "outputs": [],
   "source": [
    "import math\n",
    "import matplotlib.pyplot as plt\n",
    "import seaborn as sns\n",
    "from sklearn.model_selection import train_test_split\n",
    "from sklearn.preprocessing import LabelEncoder\n",
    "from sklearn.metrics import classification_report, confusion_matrix,accuracy_score\n",
    "import tensorflow as tf\n",
    "from tensorflow.keras.models import Sequential\n",
    "from tensorflow.keras.layers import Flatten, Dense, Conv2D, MaxPooling2D\n",
    "from tensorflow.keras.layers import Dropout, BatchNormalization, LeakyReLU, Activation\n",
    "from tensorflow.keras.callbacks import Callback, EarlyStopping, ReduceLROnPlateau\n",
    "from tensorflow.keras.preprocessing.image import ImageDataGenerator\n",
    "from tensorflow.keras.utils import to_categorical"
   ]
  },
  {
   "cell_type": "markdown",
   "id": "6444f471",
   "metadata": {
    "papermill": {
     "duration": 0.007589,
     "end_time": "2022-12-19T17:23:20.273097",
     "exception": false,
     "start_time": "2022-12-19T17:23:20.265508",
     "status": "completed"
    },
    "tags": []
   },
   "source": [
    "# Dataset"
   ]
  },
  {
   "cell_type": "code",
   "execution_count": 3,
   "id": "9da3461d",
   "metadata": {
    "execution": {
     "iopub.execute_input": "2022-12-19T17:23:20.290701Z",
     "iopub.status.busy": "2022-12-19T17:23:20.289517Z",
     "iopub.status.idle": "2022-12-19T17:23:31.882050Z",
     "shell.execute_reply": "2022-12-19T17:23:31.881080Z"
    },
    "papermill": {
     "duration": 11.60389,
     "end_time": "2022-12-19T17:23:31.884813",
     "exception": false,
     "start_time": "2022-12-19T17:23:20.280923",
     "status": "completed"
    },
    "tags": []
   },
   "outputs": [],
   "source": [
    "df=pd.read_csv(\"/kaggle/input/challenges-in-representation-learning-facial-expression-recognition-challenge/train.csv\")\n",
    "df_test=pd.read_csv(\"/kaggle/input/challenges-in-representation-learning-facial-expression-recognition-challenge/test.csv\")\n",
    "df_icml=pd.read_csv(\"/kaggle/input/challenges-in-representation-learning-facial-expression-recognition-challenge/icml_face_data.csv\")"
   ]
  },
  {
   "cell_type": "code",
   "execution_count": 4,
   "id": "e48737ac",
   "metadata": {
    "execution": {
     "iopub.execute_input": "2022-12-19T17:23:31.902104Z",
     "iopub.status.busy": "2022-12-19T17:23:31.901787Z",
     "iopub.status.idle": "2022-12-19T17:23:31.907451Z",
     "shell.execute_reply": "2022-12-19T17:23:31.906400Z"
    },
    "papermill": {
     "duration": 0.017934,
     "end_time": "2022-12-19T17:23:31.910884",
     "exception": false,
     "start_time": "2022-12-19T17:23:31.892950",
     "status": "completed"
    },
    "tags": []
   },
   "outputs": [
    {
     "name": "stdout",
     "output_type": "stream",
     "text": [
      "(28709, 2)\n",
      "(7178, 1)\n",
      "(35887, 3)\n"
     ]
    }
   ],
   "source": [
    "print(df.shape)\n",
    "print(df_test.shape)\n",
    "print(df_icml.shape)"
   ]
  },
  {
   "cell_type": "code",
   "execution_count": 5,
   "id": "655a7a92",
   "metadata": {
    "execution": {
     "iopub.execute_input": "2022-12-19T17:23:31.928601Z",
     "iopub.status.busy": "2022-12-19T17:23:31.928333Z",
     "iopub.status.idle": "2022-12-19T17:23:31.944493Z",
     "shell.execute_reply": "2022-12-19T17:23:31.943434Z"
    },
    "papermill": {
     "duration": 0.027281,
     "end_time": "2022-12-19T17:23:31.946967",
     "exception": false,
     "start_time": "2022-12-19T17:23:31.919686",
     "status": "completed"
    },
    "tags": []
   },
   "outputs": [
    {
     "data": {
      "text/html": [
       "<div>\n",
       "<style scoped>\n",
       "    .dataframe tbody tr th:only-of-type {\n",
       "        vertical-align: middle;\n",
       "    }\n",
       "\n",
       "    .dataframe tbody tr th {\n",
       "        vertical-align: top;\n",
       "    }\n",
       "\n",
       "    .dataframe thead th {\n",
       "        text-align: right;\n",
       "    }\n",
       "</style>\n",
       "<table border=\"1\" class=\"dataframe\">\n",
       "  <thead>\n",
       "    <tr style=\"text-align: right;\">\n",
       "      <th></th>\n",
       "      <th>emotion</th>\n",
       "      <th>pixels</th>\n",
       "    </tr>\n",
       "  </thead>\n",
       "  <tbody>\n",
       "    <tr>\n",
       "      <th>0</th>\n",
       "      <td>0</td>\n",
       "      <td>70 80 82 72 58 58 60 63 54 58 60 48 89 115 121...</td>\n",
       "    </tr>\n",
       "    <tr>\n",
       "      <th>1</th>\n",
       "      <td>0</td>\n",
       "      <td>151 150 147 155 148 133 111 140 170 174 182 15...</td>\n",
       "    </tr>\n",
       "    <tr>\n",
       "      <th>2</th>\n",
       "      <td>2</td>\n",
       "      <td>231 212 156 164 174 138 161 173 182 200 106 38...</td>\n",
       "    </tr>\n",
       "    <tr>\n",
       "      <th>3</th>\n",
       "      <td>4</td>\n",
       "      <td>24 32 36 30 32 23 19 20 30 41 21 22 32 34 21 1...</td>\n",
       "    </tr>\n",
       "    <tr>\n",
       "      <th>4</th>\n",
       "      <td>6</td>\n",
       "      <td>4 0 0 0 0 0 0 0 0 0 0 0 3 15 23 28 48 50 58 84...</td>\n",
       "    </tr>\n",
       "  </tbody>\n",
       "</table>\n",
       "</div>"
      ],
      "text/plain": [
       "   emotion                                             pixels\n",
       "0        0  70 80 82 72 58 58 60 63 54 58 60 48 89 115 121...\n",
       "1        0  151 150 147 155 148 133 111 140 170 174 182 15...\n",
       "2        2  231 212 156 164 174 138 161 173 182 200 106 38...\n",
       "3        4  24 32 36 30 32 23 19 20 30 41 21 22 32 34 21 1...\n",
       "4        6  4 0 0 0 0 0 0 0 0 0 0 0 3 15 23 28 48 50 58 84..."
      ]
     },
     "execution_count": 5,
     "metadata": {},
     "output_type": "execute_result"
    }
   ],
   "source": [
    "df.head()"
   ]
  },
  {
   "cell_type": "code",
   "execution_count": 6,
   "id": "97d444ea",
   "metadata": {
    "execution": {
     "iopub.execute_input": "2022-12-19T17:23:31.963806Z",
     "iopub.status.busy": "2022-12-19T17:23:31.963552Z",
     "iopub.status.idle": "2022-12-19T17:23:31.972658Z",
     "shell.execute_reply": "2022-12-19T17:23:31.971700Z"
    },
    "papermill": {
     "duration": 0.01978,
     "end_time": "2022-12-19T17:23:31.974649",
     "exception": false,
     "start_time": "2022-12-19T17:23:31.954869",
     "status": "completed"
    },
    "tags": []
   },
   "outputs": [
    {
     "data": {
      "text/html": [
       "<div>\n",
       "<style scoped>\n",
       "    .dataframe tbody tr th:only-of-type {\n",
       "        vertical-align: middle;\n",
       "    }\n",
       "\n",
       "    .dataframe tbody tr th {\n",
       "        vertical-align: top;\n",
       "    }\n",
       "\n",
       "    .dataframe thead th {\n",
       "        text-align: right;\n",
       "    }\n",
       "</style>\n",
       "<table border=\"1\" class=\"dataframe\">\n",
       "  <thead>\n",
       "    <tr style=\"text-align: right;\">\n",
       "      <th></th>\n",
       "      <th>pixels</th>\n",
       "    </tr>\n",
       "  </thead>\n",
       "  <tbody>\n",
       "    <tr>\n",
       "      <th>0</th>\n",
       "      <td>254 254 254 254 254 249 255 160 2 58 53 70 77 ...</td>\n",
       "    </tr>\n",
       "    <tr>\n",
       "      <th>1</th>\n",
       "      <td>156 184 198 202 204 207 210 212 213 214 215 21...</td>\n",
       "    </tr>\n",
       "    <tr>\n",
       "      <th>2</th>\n",
       "      <td>69 118 61 60 96 121 103 87 103 88 70 90 115 12...</td>\n",
       "    </tr>\n",
       "    <tr>\n",
       "      <th>3</th>\n",
       "      <td>205 203 236 157 83 158 120 116 94 86 155 180 2...</td>\n",
       "    </tr>\n",
       "    <tr>\n",
       "      <th>4</th>\n",
       "      <td>87 79 74 66 74 96 77 80 80 84 83 89 102 91 84 ...</td>\n",
       "    </tr>\n",
       "  </tbody>\n",
       "</table>\n",
       "</div>"
      ],
      "text/plain": [
       "                                              pixels\n",
       "0  254 254 254 254 254 249 255 160 2 58 53 70 77 ...\n",
       "1  156 184 198 202 204 207 210 212 213 214 215 21...\n",
       "2  69 118 61 60 96 121 103 87 103 88 70 90 115 12...\n",
       "3  205 203 236 157 83 158 120 116 94 86 155 180 2...\n",
       "4  87 79 74 66 74 96 77 80 80 84 83 89 102 91 84 ..."
      ]
     },
     "execution_count": 6,
     "metadata": {},
     "output_type": "execute_result"
    }
   ],
   "source": [
    "df_test.head()"
   ]
  },
  {
   "cell_type": "code",
   "execution_count": 7,
   "id": "1f532ae6",
   "metadata": {
    "execution": {
     "iopub.execute_input": "2022-12-19T17:23:31.991808Z",
     "iopub.status.busy": "2022-12-19T17:23:31.991555Z",
     "iopub.status.idle": "2022-12-19T17:23:31.999962Z",
     "shell.execute_reply": "2022-12-19T17:23:31.999086Z"
    },
    "papermill": {
     "duration": 0.019331,
     "end_time": "2022-12-19T17:23:32.001968",
     "exception": false,
     "start_time": "2022-12-19T17:23:31.982637",
     "status": "completed"
    },
    "tags": []
   },
   "outputs": [
    {
     "data": {
      "text/html": [
       "<div>\n",
       "<style scoped>\n",
       "    .dataframe tbody tr th:only-of-type {\n",
       "        vertical-align: middle;\n",
       "    }\n",
       "\n",
       "    .dataframe tbody tr th {\n",
       "        vertical-align: top;\n",
       "    }\n",
       "\n",
       "    .dataframe thead th {\n",
       "        text-align: right;\n",
       "    }\n",
       "</style>\n",
       "<table border=\"1\" class=\"dataframe\">\n",
       "  <thead>\n",
       "    <tr style=\"text-align: right;\">\n",
       "      <th></th>\n",
       "      <th>emotion</th>\n",
       "      <th>Usage</th>\n",
       "      <th>pixels</th>\n",
       "    </tr>\n",
       "  </thead>\n",
       "  <tbody>\n",
       "    <tr>\n",
       "      <th>0</th>\n",
       "      <td>0</td>\n",
       "      <td>Training</td>\n",
       "      <td>70 80 82 72 58 58 60 63 54 58 60 48 89 115 121...</td>\n",
       "    </tr>\n",
       "    <tr>\n",
       "      <th>1</th>\n",
       "      <td>0</td>\n",
       "      <td>Training</td>\n",
       "      <td>151 150 147 155 148 133 111 140 170 174 182 15...</td>\n",
       "    </tr>\n",
       "    <tr>\n",
       "      <th>2</th>\n",
       "      <td>2</td>\n",
       "      <td>Training</td>\n",
       "      <td>231 212 156 164 174 138 161 173 182 200 106 38...</td>\n",
       "    </tr>\n",
       "    <tr>\n",
       "      <th>3</th>\n",
       "      <td>4</td>\n",
       "      <td>Training</td>\n",
       "      <td>24 32 36 30 32 23 19 20 30 41 21 22 32 34 21 1...</td>\n",
       "    </tr>\n",
       "    <tr>\n",
       "      <th>4</th>\n",
       "      <td>6</td>\n",
       "      <td>Training</td>\n",
       "      <td>4 0 0 0 0 0 0 0 0 0 0 0 3 15 23 28 48 50 58 84...</td>\n",
       "    </tr>\n",
       "  </tbody>\n",
       "</table>\n",
       "</div>"
      ],
      "text/plain": [
       "   emotion     Usage                                             pixels\n",
       "0        0  Training  70 80 82 72 58 58 60 63 54 58 60 48 89 115 121...\n",
       "1        0  Training  151 150 147 155 148 133 111 140 170 174 182 15...\n",
       "2        2  Training  231 212 156 164 174 138 161 173 182 200 106 38...\n",
       "3        4  Training  24 32 36 30 32 23 19 20 30 41 21 22 32 34 21 1...\n",
       "4        6  Training  4 0 0 0 0 0 0 0 0 0 0 0 3 15 23 28 48 50 58 84..."
      ]
     },
     "execution_count": 7,
     "metadata": {},
     "output_type": "execute_result"
    }
   ],
   "source": [
    "df_icml.head()"
   ]
  },
  {
   "cell_type": "code",
   "execution_count": 8,
   "id": "846ecbce",
   "metadata": {
    "execution": {
     "iopub.execute_input": "2022-12-19T17:23:32.019889Z",
     "iopub.status.busy": "2022-12-19T17:23:32.019139Z",
     "iopub.status.idle": "2022-12-19T17:23:32.024841Z",
     "shell.execute_reply": "2022-12-19T17:23:32.023528Z"
    },
    "papermill": {
     "duration": 0.016696,
     "end_time": "2022-12-19T17:23:32.026780",
     "exception": false,
     "start_time": "2022-12-19T17:23:32.010084",
     "status": "completed"
    },
    "tags": []
   },
   "outputs": [
    {
     "name": "stdout",
     "output_type": "stream",
     "text": [
      "['emotion', ' Usage', ' pixels']\n"
     ]
    }
   ],
   "source": [
    "print(df_icml.columns.tolist())"
   ]
  },
  {
   "cell_type": "code",
   "execution_count": 9,
   "id": "fff96aff",
   "metadata": {
    "execution": {
     "iopub.execute_input": "2022-12-19T17:23:32.044591Z",
     "iopub.status.busy": "2022-12-19T17:23:32.044320Z",
     "iopub.status.idle": "2022-12-19T17:23:32.052847Z",
     "shell.execute_reply": "2022-12-19T17:23:32.052000Z"
    },
    "papermill": {
     "duration": 0.019544,
     "end_time": "2022-12-19T17:23:32.054722",
     "exception": false,
     "start_time": "2022-12-19T17:23:32.035178",
     "status": "completed"
    },
    "tags": []
   },
   "outputs": [],
   "source": [
    "df_icml.rename(columns = {' Usage':'usage'}, inplace = True)\n",
    "df_icml.rename(columns = {' pixels':'pixels'}, inplace = True)"
   ]
  },
  {
   "cell_type": "code",
   "execution_count": 10,
   "id": "596f643e",
   "metadata": {
    "execution": {
     "iopub.execute_input": "2022-12-19T17:23:32.072178Z",
     "iopub.status.busy": "2022-12-19T17:23:32.071915Z",
     "iopub.status.idle": "2022-12-19T17:23:32.081877Z",
     "shell.execute_reply": "2022-12-19T17:23:32.081018Z"
    },
    "papermill": {
     "duration": 0.020917,
     "end_time": "2022-12-19T17:23:32.083922",
     "exception": false,
     "start_time": "2022-12-19T17:23:32.063005",
     "status": "completed"
    },
    "tags": []
   },
   "outputs": [
    {
     "data": {
      "text/plain": [
       "array(['Training', 'PublicTest', 'PrivateTest'], dtype=object)"
      ]
     },
     "execution_count": 10,
     "metadata": {},
     "output_type": "execute_result"
    }
   ],
   "source": [
    "df_icml[\"usage\"].unique()"
   ]
  },
  {
   "cell_type": "code",
   "execution_count": 11,
   "id": "11af34de",
   "metadata": {
    "execution": {
     "iopub.execute_input": "2022-12-19T17:23:32.101496Z",
     "iopub.status.busy": "2022-12-19T17:23:32.101252Z",
     "iopub.status.idle": "2022-12-19T17:23:32.117499Z",
     "shell.execute_reply": "2022-12-19T17:23:32.116659Z"
    },
    "papermill": {
     "duration": 0.027339,
     "end_time": "2022-12-19T17:23:32.119499",
     "exception": false,
     "start_time": "2022-12-19T17:23:32.092160",
     "status": "completed"
    },
    "tags": []
   },
   "outputs": [
    {
     "name": "stdout",
     "output_type": "stream",
     "text": [
      "28709\n",
      "3589\n",
      "3589\n"
     ]
    }
   ],
   "source": [
    "print(np.sum(df_icml[\"usage\"]==\"Training\"))\n",
    "print(np.sum(df_icml[\"usage\"]==\"PublicTest\"))\n",
    "print(np.sum(df_icml[\"usage\"]==\"PrivateTest\"))"
   ]
  },
  {
   "cell_type": "code",
   "execution_count": 12,
   "id": "96f69136",
   "metadata": {
    "execution": {
     "iopub.execute_input": "2022-12-19T17:23:32.137837Z",
     "iopub.status.busy": "2022-12-19T17:23:32.137584Z",
     "iopub.status.idle": "2022-12-19T17:23:32.147474Z",
     "shell.execute_reply": "2022-12-19T17:23:32.146492Z"
    },
    "papermill": {
     "duration": 0.021126,
     "end_time": "2022-12-19T17:23:32.149393",
     "exception": false,
     "start_time": "2022-12-19T17:23:32.128267",
     "status": "completed"
    },
    "tags": []
   },
   "outputs": [
    {
     "data": {
      "text/plain": [
       "(7178, 3)"
      ]
     },
     "execution_count": 12,
     "metadata": {},
     "output_type": "execute_result"
    }
   ],
   "source": [
    "df_icml = df_icml.loc[df_icml['usage'].isin(['PublicTest', 'PrivateTest'])]\n",
    "df_icml.shape"
   ]
  },
  {
   "cell_type": "markdown",
   "id": "8f32480c",
   "metadata": {
    "papermill": {
     "duration": 0.008373,
     "end_time": "2022-12-19T17:23:32.166206",
     "exception": false,
     "start_time": "2022-12-19T17:23:32.157833",
     "status": "completed"
    },
    "tags": []
   },
   "source": [
    "df = used for training     \n",
    "df_test, df_icml = used for evaluation and testing  "
   ]
  },
  {
   "cell_type": "code",
   "execution_count": 13,
   "id": "88c3835c",
   "metadata": {
    "execution": {
     "iopub.execute_input": "2022-12-19T17:23:32.185682Z",
     "iopub.status.busy": "2022-12-19T17:23:32.184146Z",
     "iopub.status.idle": "2022-12-19T17:23:32.196443Z",
     "shell.execute_reply": "2022-12-19T17:23:32.195433Z"
    },
    "papermill": {
     "duration": 0.023592,
     "end_time": "2022-12-19T17:23:32.198370",
     "exception": false,
     "start_time": "2022-12-19T17:23:32.174778",
     "status": "completed"
    },
    "tags": []
   },
   "outputs": [
    {
     "data": {
      "text/html": [
       "<div>\n",
       "<style scoped>\n",
       "    .dataframe tbody tr th:only-of-type {\n",
       "        vertical-align: middle;\n",
       "    }\n",
       "\n",
       "    .dataframe tbody tr th {\n",
       "        vertical-align: top;\n",
       "    }\n",
       "\n",
       "    .dataframe thead th {\n",
       "        text-align: right;\n",
       "    }\n",
       "</style>\n",
       "<table border=\"1\" class=\"dataframe\">\n",
       "  <thead>\n",
       "    <tr style=\"text-align: right;\">\n",
       "      <th></th>\n",
       "      <th>emotion</th>\n",
       "      <th>usage</th>\n",
       "      <th>pixels</th>\n",
       "    </tr>\n",
       "  </thead>\n",
       "  <tbody>\n",
       "    <tr>\n",
       "      <th>28709</th>\n",
       "      <td>0</td>\n",
       "      <td>PublicTest</td>\n",
       "      <td>254 254 254 254 254 249 255 160 2 58 53 70 77 ...</td>\n",
       "    </tr>\n",
       "    <tr>\n",
       "      <th>28710</th>\n",
       "      <td>1</td>\n",
       "      <td>PublicTest</td>\n",
       "      <td>156 184 198 202 204 207 210 212 213 214 215 21...</td>\n",
       "    </tr>\n",
       "    <tr>\n",
       "      <th>28711</th>\n",
       "      <td>4</td>\n",
       "      <td>PublicTest</td>\n",
       "      <td>69 118 61 60 96 121 103 87 103 88 70 90 115 12...</td>\n",
       "    </tr>\n",
       "    <tr>\n",
       "      <th>28712</th>\n",
       "      <td>6</td>\n",
       "      <td>PublicTest</td>\n",
       "      <td>205 203 236 157 83 158 120 116 94 86 155 180 2...</td>\n",
       "    </tr>\n",
       "    <tr>\n",
       "      <th>28713</th>\n",
       "      <td>3</td>\n",
       "      <td>PublicTest</td>\n",
       "      <td>87 79 74 66 74 96 77 80 80 84 83 89 102 91 84 ...</td>\n",
       "    </tr>\n",
       "    <tr>\n",
       "      <th>...</th>\n",
       "      <td>...</td>\n",
       "      <td>...</td>\n",
       "      <td>...</td>\n",
       "    </tr>\n",
       "    <tr>\n",
       "      <th>35882</th>\n",
       "      <td>6</td>\n",
       "      <td>PrivateTest</td>\n",
       "      <td>50 36 17 22 23 29 33 39 34 37 37 37 39 43 48 5...</td>\n",
       "    </tr>\n",
       "    <tr>\n",
       "      <th>35883</th>\n",
       "      <td>3</td>\n",
       "      <td>PrivateTest</td>\n",
       "      <td>178 174 172 173 181 188 191 194 196 199 200 20...</td>\n",
       "    </tr>\n",
       "    <tr>\n",
       "      <th>35884</th>\n",
       "      <td>0</td>\n",
       "      <td>PrivateTest</td>\n",
       "      <td>17 17 16 23 28 22 19 17 25 26 20 24 31 19 27 9...</td>\n",
       "    </tr>\n",
       "    <tr>\n",
       "      <th>35885</th>\n",
       "      <td>3</td>\n",
       "      <td>PrivateTest</td>\n",
       "      <td>30 28 28 29 31 30 42 68 79 81 77 67 67 71 63 6...</td>\n",
       "    </tr>\n",
       "    <tr>\n",
       "      <th>35886</th>\n",
       "      <td>2</td>\n",
       "      <td>PrivateTest</td>\n",
       "      <td>19 13 14 12 13 16 21 33 50 57 71 84 97 108 122...</td>\n",
       "    </tr>\n",
       "  </tbody>\n",
       "</table>\n",
       "<p>7178 rows × 3 columns</p>\n",
       "</div>"
      ],
      "text/plain": [
       "       emotion        usage                                             pixels\n",
       "28709        0   PublicTest  254 254 254 254 254 249 255 160 2 58 53 70 77 ...\n",
       "28710        1   PublicTest  156 184 198 202 204 207 210 212 213 214 215 21...\n",
       "28711        4   PublicTest  69 118 61 60 96 121 103 87 103 88 70 90 115 12...\n",
       "28712        6   PublicTest  205 203 236 157 83 158 120 116 94 86 155 180 2...\n",
       "28713        3   PublicTest  87 79 74 66 74 96 77 80 80 84 83 89 102 91 84 ...\n",
       "...        ...          ...                                                ...\n",
       "35882        6  PrivateTest  50 36 17 22 23 29 33 39 34 37 37 37 39 43 48 5...\n",
       "35883        3  PrivateTest  178 174 172 173 181 188 191 194 196 199 200 20...\n",
       "35884        0  PrivateTest  17 17 16 23 28 22 19 17 25 26 20 24 31 19 27 9...\n",
       "35885        3  PrivateTest  30 28 28 29 31 30 42 68 79 81 77 67 67 71 63 6...\n",
       "35886        2  PrivateTest  19 13 14 12 13 16 21 33 50 57 71 84 97 108 122...\n",
       "\n",
       "[7178 rows x 3 columns]"
      ]
     },
     "execution_count": 13,
     "metadata": {},
     "output_type": "execute_result"
    }
   ],
   "source": [
    "df_icml"
   ]
  },
  {
   "cell_type": "markdown",
   "id": "75ac5165",
   "metadata": {
    "papermill": {
     "duration": 0.008555,
     "end_time": "2022-12-19T17:23:32.215677",
     "exception": false,
     "start_time": "2022-12-19T17:23:32.207122",
     "status": "completed"
    },
    "tags": []
   },
   "source": [
    "# EDA"
   ]
  },
  {
   "cell_type": "code",
   "execution_count": 14,
   "id": "02195c71",
   "metadata": {
    "execution": {
     "iopub.execute_input": "2022-12-19T17:23:32.234438Z",
     "iopub.status.busy": "2022-12-19T17:23:32.233954Z",
     "iopub.status.idle": "2022-12-19T17:23:32.253750Z",
     "shell.execute_reply": "2022-12-19T17:23:32.252091Z"
    },
    "papermill": {
     "duration": 0.03141,
     "end_time": "2022-12-19T17:23:32.255780",
     "exception": false,
     "start_time": "2022-12-19T17:23:32.224370",
     "status": "completed"
    },
    "tags": []
   },
   "outputs": [
    {
     "name": "stdout",
     "output_type": "stream",
     "text": [
      "<class 'pandas.core.frame.DataFrame'>\n",
      "RangeIndex: 28709 entries, 0 to 28708\n",
      "Data columns (total 2 columns):\n",
      " #   Column   Non-Null Count  Dtype \n",
      "---  ------   --------------  ----- \n",
      " 0   emotion  28709 non-null  int64 \n",
      " 1   pixels   28709 non-null  object\n",
      "dtypes: int64(1), object(1)\n",
      "memory usage: 448.7+ KB\n"
     ]
    }
   ],
   "source": [
    "df.info()"
   ]
  },
  {
   "cell_type": "code",
   "execution_count": 15,
   "id": "ecae4428",
   "metadata": {
    "execution": {
     "iopub.execute_input": "2022-12-19T17:23:32.274978Z",
     "iopub.status.busy": "2022-12-19T17:23:32.274427Z",
     "iopub.status.idle": "2022-12-19T17:23:32.281614Z",
     "shell.execute_reply": "2022-12-19T17:23:32.280248Z"
    },
    "papermill": {
     "duration": 0.019539,
     "end_time": "2022-12-19T17:23:32.284293",
     "exception": false,
     "start_time": "2022-12-19T17:23:32.264754",
     "status": "completed"
    },
    "tags": []
   },
   "outputs": [
    {
     "name": "stdout",
     "output_type": "stream",
     "text": [
      "[0 2 4 6 3 5 1]\n"
     ]
    }
   ],
   "source": [
    "print(df[\"emotion\"].unique())"
   ]
  },
  {
   "cell_type": "code",
   "execution_count": 16,
   "id": "71f26272",
   "metadata": {
    "execution": {
     "iopub.execute_input": "2022-12-19T17:23:32.304872Z",
     "iopub.status.busy": "2022-12-19T17:23:32.303324Z",
     "iopub.status.idle": "2022-12-19T17:24:01.343923Z",
     "shell.execute_reply": "2022-12-19T17:24:01.342909Z"
    },
    "papermill": {
     "duration": 29.052537,
     "end_time": "2022-12-19T17:24:01.346116",
     "exception": false,
     "start_time": "2022-12-19T17:23:32.293579",
     "status": "completed"
    },
    "tags": []
   },
   "outputs": [
    {
     "data": {
      "text/plain": [
       "(28709, 48, 48, 1)"
      ]
     },
     "execution_count": 16,
     "metadata": {},
     "output_type": "execute_result"
    }
   ],
   "source": [
    "X = df['pixels'].apply(lambda x: np.array(x.split()).reshape(48, 48, 1).astype('float32'))\n",
    "X = np.stack(X, axis=0)\n",
    "X.shape"
   ]
  },
  {
   "cell_type": "code",
   "execution_count": 17,
   "id": "94ec1180",
   "metadata": {
    "execution": {
     "iopub.execute_input": "2022-12-19T17:24:01.389385Z",
     "iopub.status.busy": "2022-12-19T17:24:01.383521Z",
     "iopub.status.idle": "2022-12-19T17:24:01.401876Z",
     "shell.execute_reply": "2022-12-19T17:24:01.401080Z"
    },
    "papermill": {
     "duration": 0.039321,
     "end_time": "2022-12-19T17:24:01.406513",
     "exception": false,
     "start_time": "2022-12-19T17:24:01.367192",
     "status": "completed"
    },
    "tags": []
   },
   "outputs": [
    {
     "data": {
      "text/plain": [
       "(28709,)"
      ]
     },
     "execution_count": 17,
     "metadata": {},
     "output_type": "execute_result"
    }
   ],
   "source": [
    "y = df[\"emotion\"]\n",
    "y.shape"
   ]
  },
  {
   "cell_type": "code",
   "execution_count": 18,
   "id": "cde9264a",
   "metadata": {
    "execution": {
     "iopub.execute_input": "2022-12-19T17:24:01.446157Z",
     "iopub.status.busy": "2022-12-19T17:24:01.445746Z",
     "iopub.status.idle": "2022-12-19T17:24:01.451127Z",
     "shell.execute_reply": "2022-12-19T17:24:01.450255Z"
    },
    "papermill": {
     "duration": 0.028739,
     "end_time": "2022-12-19T17:24:01.456269",
     "exception": false,
     "start_time": "2022-12-19T17:24:01.427530",
     "status": "completed"
    },
    "tags": []
   },
   "outputs": [],
   "source": [
    "emotion = ('anger', 'disgust', 'fear', 'happiness', 'sadness', 'surprise', 'neutral')"
   ]
  },
  {
   "cell_type": "code",
   "execution_count": 19,
   "id": "1bf17e3e",
   "metadata": {
    "execution": {
     "iopub.execute_input": "2022-12-19T17:24:01.491840Z",
     "iopub.status.busy": "2022-12-19T17:24:01.491464Z",
     "iopub.status.idle": "2022-12-19T17:24:01.816429Z",
     "shell.execute_reply": "2022-12-19T17:24:01.815530Z"
    },
    "papermill": {
     "duration": 0.344564,
     "end_time": "2022-12-19T17:24:01.819059",
     "exception": false,
     "start_time": "2022-12-19T17:24:01.474495",
     "status": "completed"
    },
    "tags": []
   },
   "outputs": [
    {
     "data": {
      "image/png": "[encoded data removed]",
      "text/plain": [
       "<Figure size 432x288 with 1 Axes>"
      ]
     },
     "metadata": {
      "needs_background": "light"
     },
     "output_type": "display_data"
    }
   ],
   "source": [
    "sns.countplot(x=y)\n",
    "plt.xticks(range(7), emotion);"
   ]
  },
  {
   "cell_type": "code",
   "execution_count": 20,
   "id": "4c4d07e8",
   "metadata": {
    "execution": {
     "iopub.execute_input": "2022-12-19T17:24:01.849757Z",
     "iopub.status.busy": "2022-12-19T17:24:01.849437Z",
     "iopub.status.idle": "2022-12-19T17:24:02.054998Z",
     "shell.execute_reply": "2022-12-19T17:24:02.053962Z"
    },
    "papermill": {
     "duration": 0.223069,
     "end_time": "2022-12-19T17:24:02.057235",
     "exception": false,
     "start_time": "2022-12-19T17:24:01.834166",
     "status": "completed"
    },
    "tags": []
   },
   "outputs": [
    {
     "data": {
      "text/plain": [
       "Text(0.5, 1.0, 'happiness')"
      ]
     },
     "execution_count": 20,
     "metadata": {},
     "output_type": "execute_result"
    },
    {
     "data": {
      "image/png": "[encoded data removed]",
      "text/plain": [
       "<Figure size 432x288 with 1 Axes>"
      ]
     },
     "metadata": {
      "needs_background": "light"
     },
     "output_type": "display_data"
    }
   ],
   "source": [
    "plt.imshow(X[14].reshape((48,48)), cmap='gray')\n",
    "plt.title(emotion[y[14]])"
   ]
  },
  {
   "cell_type": "code",
   "execution_count": 21,
   "id": "1ecead10",
   "metadata": {
    "execution": {
     "iopub.execute_input": "2022-12-19T17:24:02.078421Z",
     "iopub.status.busy": "2022-12-19T17:24:02.077862Z",
     "iopub.status.idle": "2022-12-19T17:24:02.264991Z",
     "shell.execute_reply": "2022-12-19T17:24:02.263945Z"
    },
    "papermill": {
     "duration": 0.199592,
     "end_time": "2022-12-19T17:24:02.267122",
     "exception": false,
     "start_time": "2022-12-19T17:24:02.067530",
     "status": "completed"
    },
    "tags": []
   },
   "outputs": [
    {
     "data": {
      "text/plain": [
       "Text(0.5, 1.0, 'neutral')"
      ]
     },
     "execution_count": 21,
     "metadata": {},
     "output_type": "execute_result"
    },
    {
     "data": {
      "image/png": "[encoded data removed]",
      "text/plain": [
       "<Figure size 432x288 with 1 Axes>"
      ]
     },
     "metadata": {
      "needs_background": "light"
     },
     "output_type": "display_data"
    }
   ],
   "source": [
    "plt.imshow(X[13].reshape((48,48)), cmap='gray')\n",
    "plt.title(emotion[y[13]])"
   ]
  },
  {
   "cell_type": "code",
   "execution_count": 22,
   "id": "67ff663b",
   "metadata": {
    "execution": {
     "iopub.execute_input": "2022-12-19T17:24:02.287904Z",
     "iopub.status.busy": "2022-12-19T17:24:02.287642Z",
     "iopub.status.idle": "2022-12-19T17:24:02.294847Z",
     "shell.execute_reply": "2022-12-19T17:24:02.294254Z"
    },
    "papermill": {
     "duration": 0.019621,
     "end_time": "2022-12-19T17:24:02.296551",
     "exception": false,
     "start_time": "2022-12-19T17:24:02.276930",
     "status": "completed"
    },
    "tags": []
   },
   "outputs": [
    {
     "data": {
      "text/plain": [
       "(28709, 7)"
      ]
     },
     "execution_count": 22,
     "metadata": {},
     "output_type": "execute_result"
    }
   ],
   "source": [
    "le = LabelEncoder()\n",
    "img_labels = le.fit_transform(y)\n",
    "img_labels = to_categorical(img_labels)\n",
    "img_labels.shape"
   ]
  },
  {
   "cell_type": "code",
   "execution_count": 23,
   "id": "6c80b335",
   "metadata": {
    "execution": {
     "iopub.execute_input": "2022-12-19T17:24:02.317639Z",
     "iopub.status.busy": "2022-12-19T17:24:02.316908Z",
     "iopub.status.idle": "2022-12-19T17:24:02.323091Z",
     "shell.execute_reply": "2022-12-19T17:24:02.322163Z"
    },
    "papermill": {
     "duration": 0.018749,
     "end_time": "2022-12-19T17:24:02.325093",
     "exception": false,
     "start_time": "2022-12-19T17:24:02.306344",
     "status": "completed"
    },
    "tags": []
   },
   "outputs": [
    {
     "data": {
      "text/plain": [
       "((28709, 48, 48, 1), (28709, 7))"
      ]
     },
     "execution_count": 23,
     "metadata": {},
     "output_type": "execute_result"
    }
   ],
   "source": [
    "X.shape,img_labels.shape"
   ]
  },
  {
   "cell_type": "code",
   "execution_count": 24,
   "id": "646a9cdd",
   "metadata": {
    "execution": {
     "iopub.execute_input": "2022-12-19T17:24:02.347068Z",
     "iopub.status.busy": "2022-12-19T17:24:02.345634Z",
     "iopub.status.idle": "2022-12-19T17:24:02.399002Z",
     "shell.execute_reply": "2022-12-19T17:24:02.398140Z"
    },
    "papermill": {
     "duration": 0.065825,
     "end_time": "2022-12-19T17:24:02.400960",
     "exception": false,
     "start_time": "2022-12-19T17:24:02.335135",
     "status": "completed"
    },
    "tags": []
   },
   "outputs": [],
   "source": [
    "X = X/255."
   ]
  },
  {
   "cell_type": "code",
   "execution_count": 25,
   "id": "6f85c622",
   "metadata": {
    "execution": {
     "iopub.execute_input": "2022-12-19T17:24:02.422880Z",
     "iopub.status.busy": "2022-12-19T17:24:02.422291Z",
     "iopub.status.idle": "2022-12-19T17:24:02.433847Z",
     "shell.execute_reply": "2022-12-19T17:24:02.433005Z"
    },
    "papermill": {
     "duration": 0.024453,
     "end_time": "2022-12-19T17:24:02.435815",
     "exception": false,
     "start_time": "2022-12-19T17:24:02.411362",
     "status": "completed"
    },
    "tags": []
   },
   "outputs": [
    {
     "data": {
      "text/plain": [
       "array([[[[0.27450982],\n",
       "         [0.3137255 ],\n",
       "         [0.32156864],\n",
       "         ...,\n",
       "         [0.20392157],\n",
       "         [0.16862746],\n",
       "         [0.16078432]],\n",
       "\n",
       "        [[0.25490198],\n",
       "         [0.23921569],\n",
       "         [0.22745098],\n",
       "         ...,\n",
       "         [0.21960784],\n",
       "         [0.20392157],\n",
       "         [0.17254902]],\n",
       "\n",
       "        [[0.19607843],\n",
       "         [0.16862746],\n",
       "         [0.21176471],\n",
       "         ...,\n",
       "         [0.19215687],\n",
       "         [0.21960784],\n",
       "         [0.18431373]],\n",
       "\n",
       "        ...,\n",
       "\n",
       "        [[0.35686275],\n",
       "         [0.25490198],\n",
       "         [0.16470589],\n",
       "         ...,\n",
       "         [0.28235295],\n",
       "         [0.21960784],\n",
       "         [0.16862746]],\n",
       "\n",
       "        [[0.3019608 ],\n",
       "         [0.32156864],\n",
       "         [0.30980393],\n",
       "         ...,\n",
       "         [0.4117647 ],\n",
       "         [0.27450982],\n",
       "         [0.18039216]],\n",
       "\n",
       "        [[0.3019608 ],\n",
       "         [0.28235295],\n",
       "         [0.32941177],\n",
       "         ...,\n",
       "         [0.41568628],\n",
       "         [0.42745098],\n",
       "         [0.32156864]]],\n",
       "\n",
       "\n",
       "       [[[0.5921569 ],\n",
       "         [0.5882353 ],\n",
       "         [0.5764706 ],\n",
       "         ...,\n",
       "         [0.5058824 ],\n",
       "         [0.54901963],\n",
       "         [0.47058824]],\n",
       "\n",
       "        [[0.5921569 ],\n",
       "         [0.58431375],\n",
       "         [0.58431375],\n",
       "         ...,\n",
       "         [0.47843137],\n",
       "         [0.5529412 ],\n",
       "         [0.5372549 ]],\n",
       "\n",
       "        [[0.5921569 ],\n",
       "         [0.5921569 ],\n",
       "         [0.6117647 ],\n",
       "         ...,\n",
       "         [0.42745098],\n",
       "         [0.48235294],\n",
       "         [0.57254905]],\n",
       "\n",
       "        ...,\n",
       "\n",
       "        [[0.7372549 ],\n",
       "         [0.7372549 ],\n",
       "         [0.4745098 ],\n",
       "         ...,\n",
       "         [0.7254902 ],\n",
       "         [0.7254902 ],\n",
       "         [0.7294118 ]],\n",
       "\n",
       "        [[0.7372549 ],\n",
       "         [0.73333335],\n",
       "         [0.76862746],\n",
       "         ...,\n",
       "         [0.7294118 ],\n",
       "         [0.7137255 ],\n",
       "         [0.73333335]],\n",
       "\n",
       "        [[0.7294118 ],\n",
       "         [0.72156864],\n",
       "         [0.7254902 ],\n",
       "         ...,\n",
       "         [0.75686276],\n",
       "         [0.7176471 ],\n",
       "         [0.72156864]]],\n",
       "\n",
       "\n",
       "       [[[0.90588236],\n",
       "         [0.83137256],\n",
       "         [0.6117647 ],\n",
       "         ...,\n",
       "         [0.17254902],\n",
       "         [0.10588235],\n",
       "         [0.0627451 ]],\n",
       "\n",
       "        [[0.8980392 ],\n",
       "         [0.6862745 ],\n",
       "         [0.5803922 ],\n",
       "         ...,\n",
       "         [0.10588235],\n",
       "         [0.13725491],\n",
       "         [0.10588235]],\n",
       "\n",
       "        [[0.8392157 ],\n",
       "         [0.6117647 ],\n",
       "         [0.6156863 ],\n",
       "         ...,\n",
       "         [0.10980392],\n",
       "         [0.08627451],\n",
       "         [0.10980392]],\n",
       "\n",
       "        ...,\n",
       "\n",
       "        [[0.94509804],\n",
       "         [0.9607843 ],\n",
       "         [0.98039216],\n",
       "         ...,\n",
       "         [0.22352941],\n",
       "         [0.39607844],\n",
       "         [0.57254905]],\n",
       "\n",
       "        [[0.9647059 ],\n",
       "         [0.98039216],\n",
       "         [0.9882353 ],\n",
       "         ...,\n",
       "         [0.30588236],\n",
       "         [0.4117647 ],\n",
       "         [0.63529414]],\n",
       "\n",
       "        [[0.98039216],\n",
       "         [0.9843137 ],\n",
       "         [0.98039216],\n",
       "         ...,\n",
       "         [0.34509805],\n",
       "         [0.43137255],\n",
       "         [0.59607846]]],\n",
       "\n",
       "\n",
       "       ...,\n",
       "\n",
       "\n",
       "       [[[0.2901961 ],\n",
       "         [0.31764707],\n",
       "         [0.34117648],\n",
       "         ...,\n",
       "         [0.7411765 ],\n",
       "         [0.7490196 ],\n",
       "         [0.7529412 ]],\n",
       "\n",
       "        [[0.30588236],\n",
       "         [0.32156864],\n",
       "         [0.34901962],\n",
       "         ...,\n",
       "         [0.7254902 ],\n",
       "         [0.7411765 ],\n",
       "         [0.75686276]],\n",
       "\n",
       "        [[0.31764707],\n",
       "         [0.3372549 ],\n",
       "         [0.36862746],\n",
       "         ...,\n",
       "         [0.6901961 ],\n",
       "         [0.7254902 ],\n",
       "         [0.75686276]],\n",
       "\n",
       "        ...,\n",
       "\n",
       "        [[0.3529412 ],\n",
       "         [0.3882353 ],\n",
       "         [0.44313726],\n",
       "         ...,\n",
       "         [0.7529412 ],\n",
       "         [0.7647059 ],\n",
       "         [0.77254903]],\n",
       "\n",
       "        [[0.34509805],\n",
       "         [0.3764706 ],\n",
       "         [0.44705883],\n",
       "         ...,\n",
       "         [0.7529412 ],\n",
       "         [0.7607843 ],\n",
       "         [0.7529412 ]],\n",
       "\n",
       "        [[0.34509805],\n",
       "         [0.38039216],\n",
       "         [0.43137255],\n",
       "         ...,\n",
       "         [0.7372549 ],\n",
       "         [0.73333335],\n",
       "         [0.73333335]]],\n",
       "\n",
       "\n",
       "       [[[0.87058824],\n",
       "         [0.8901961 ],\n",
       "         [0.79607844],\n",
       "         ...,\n",
       "         [0.5411765 ],\n",
       "         [0.5176471 ],\n",
       "         [0.47843137]],\n",
       "\n",
       "        [[0.87058824],\n",
       "         [0.8862745 ],\n",
       "         [0.79607844],\n",
       "         ...,\n",
       "         [0.5568628 ],\n",
       "         [0.53333336],\n",
       "         [0.49803922]],\n",
       "\n",
       "        [[0.87058824],\n",
       "         [0.88235295],\n",
       "         [0.80784315],\n",
       "         ...,\n",
       "         [0.5764706 ],\n",
       "         [0.56078434],\n",
       "         [0.5058824 ]],\n",
       "\n",
       "        ...,\n",
       "\n",
       "        [[0.7019608 ],\n",
       "         [0.7058824 ],\n",
       "         [0.69411767],\n",
       "         ...,\n",
       "         [0.5529412 ],\n",
       "         [0.54509807],\n",
       "         [0.5372549 ]],\n",
       "\n",
       "        [[0.7372549 ],\n",
       "         [0.7137255 ],\n",
       "         [0.6901961 ],\n",
       "         ...,\n",
       "         [0.5411765 ],\n",
       "         [0.53333336],\n",
       "         [0.5294118 ]],\n",
       "\n",
       "        [[0.70980394],\n",
       "         [0.65882355],\n",
       "         [0.60784316],\n",
       "         ...,\n",
       "         [0.53333336],\n",
       "         [0.53333336],\n",
       "         [0.5254902 ]]],\n",
       "\n",
       "\n",
       "       [[[0.7647059 ],\n",
       "         [0.78039217],\n",
       "         [0.8039216 ],\n",
       "         ...,\n",
       "         [0.7137255 ],\n",
       "         [0.54901963],\n",
       "         [0.3019608 ]],\n",
       "\n",
       "        [[0.75686276],\n",
       "         [0.76862746],\n",
       "         [0.7921569 ],\n",
       "         ...,\n",
       "         [0.77254903],\n",
       "         [0.64705884],\n",
       "         [0.4117647 ]],\n",
       "\n",
       "        [[0.7764706 ],\n",
       "         [0.78431374],\n",
       "         [0.8       ],\n",
       "         ...,\n",
       "         [0.8156863 ],\n",
       "         [0.76862746],\n",
       "         [0.6156863 ]],\n",
       "\n",
       "        ...,\n",
       "\n",
       "        [[0.22352941],\n",
       "         [0.28627452],\n",
       "         [0.32941177],\n",
       "         ...,\n",
       "         [0.01176471],\n",
       "         [0.07843138],\n",
       "         [0.12941177]],\n",
       "\n",
       "        [[0.23921569],\n",
       "         [0.28627452],\n",
       "         [0.3764706 ],\n",
       "         ...,\n",
       "         [0.02352941],\n",
       "         [0.07450981],\n",
       "         [0.16078432]],\n",
       "\n",
       "        [[0.23921569],\n",
       "         [0.30980393],\n",
       "         [0.37254903],\n",
       "         ...,\n",
       "         [0.02352941],\n",
       "         [0.05882353],\n",
       "         [0.14901961]]]], dtype=float32)"
      ]
     },
     "execution_count": 25,
     "metadata": {},
     "output_type": "execute_result"
    }
   ],
   "source": [
    "X"
   ]
  },
  {
   "cell_type": "markdown",
   "id": "2436468e",
   "metadata": {
    "papermill": {
     "duration": 0.010114,
     "end_time": "2022-12-19T17:24:02.456846",
     "exception": false,
     "start_time": "2022-12-19T17:24:02.446732",
     "status": "completed"
    },
    "tags": []
   },
   "source": [
    "# Training"
   ]
  },
  {
   "cell_type": "code",
   "execution_count": 26,
   "id": "b9a5ed74",
   "metadata": {
    "execution": {
     "iopub.execute_input": "2022-12-19T17:24:02.478824Z",
     "iopub.status.busy": "2022-12-19T17:24:02.478104Z",
     "iopub.status.idle": "2022-12-19T17:24:05.328813Z",
     "shell.execute_reply": "2022-12-19T17:24:05.327926Z"
    },
    "papermill": {
     "duration": 2.864118,
     "end_time": "2022-12-19T17:24:05.331081",
     "exception": false,
     "start_time": "2022-12-19T17:24:02.466963",
     "status": "completed"
    },
    "tags": []
   },
   "outputs": [
    {
     "name": "stderr",
     "output_type": "stream",
     "text": [
      "2022-12-19 17:24:02.569279: I tensorflow/stream_executor/cuda/cuda_gpu_executor.cc:937] successful NUMA node read from SysFS had negative value (-1), but there must be at least one NUMA node, so returning NUMA node zero\n",
      "2022-12-19 17:24:02.674047: I tensorflow/stream_executor/cuda/cuda_gpu_executor.cc:937] successful NUMA node read from SysFS had negative value (-1), but there must be at least one NUMA node, so returning NUMA node zero\n",
      "2022-12-19 17:24:02.674824: I tensorflow/stream_executor/cuda/cuda_gpu_executor.cc:937] successful NUMA node read from SysFS had negative value (-1), but there must be at least one NUMA node, so returning NUMA node zero\n",
      "2022-12-19 17:24:02.676006: I tensorflow/core/platform/cpu_feature_guard.cc:142] This TensorFlow binary is optimized with oneAPI Deep Neural Network Library (oneDNN) to use the following CPU instructions in performance-critical operations:  AVX2 AVX512F FMA\n",
      "To enable them in other operations, rebuild TensorFlow with the appropriate compiler flags.\n",
      "2022-12-19 17:24:02.676351: I tensorflow/stream_executor/cuda/cuda_gpu_executor.cc:937] successful NUMA node read from SysFS had negative value (-1), but there must be at least one NUMA node, so returning NUMA node zero\n",
      "2022-12-19 17:24:02.677021: I tensorflow/stream_executor/cuda/cuda_gpu_executor.cc:937] successful NUMA node read from SysFS had negative value (-1), but there must be at least one NUMA node, so returning NUMA node zero\n",
      "2022-12-19 17:24:02.677719: I tensorflow/stream_executor/cuda/cuda_gpu_executor.cc:937] successful NUMA node read from SysFS had negative value (-1), but there must be at least one NUMA node, so returning NUMA node zero\n",
      "2022-12-19 17:24:04.731488: I tensorflow/stream_executor/cuda/cuda_gpu_executor.cc:937] successful NUMA node read from SysFS had negative value (-1), but there must be at least one NUMA node, so returning NUMA node zero\n",
      "2022-12-19 17:24:04.732408: I tensorflow/stream_executor/cuda/cuda_gpu_executor.cc:937] successful NUMA node read from SysFS had negative value (-1), but there must be at least one NUMA node, so returning NUMA node zero\n",
      "2022-12-19 17:24:04.733161: I tensorflow/stream_executor/cuda/cuda_gpu_executor.cc:937] successful NUMA node read from SysFS had negative value (-1), but there must be at least one NUMA node, so returning NUMA node zero\n",
      "2022-12-19 17:24:04.733760: I tensorflow/core/common_runtime/gpu/gpu_device.cc:1510] Created device /job:localhost/replica:0/task:0/device:GPU:0 with 15401 MB memory:  -> device: 0, name: Tesla P100-PCIE-16GB, pci bus id: 0000:00:04.0, compute capability: 6.0\n"
     ]
    }
   ],
   "source": [
    "model = Sequential()\n",
    "\n",
    "model.add(Conv2D(filters = 64,kernel_size = (5, 5),input_shape = (48, 48, 1),activation = 'relu',padding = 'same',kernel_initializer = 'he_normal'))\n",
    "model.add(BatchNormalization())\n",
    "\n",
    "model.add(Conv2D(filters = 64,kernel_size = (5, 5),activation = 'relu',padding = 'same',kernel_initializer = 'he_normal'))\n",
    "model.add(BatchNormalization())\n",
    "model.add(MaxPooling2D(pool_size = (2, 2)))\n",
    "model.add(Dropout(0.4))\n",
    "\n",
    "model.add(Conv2D(filters = 128,kernel_size = (3, 3),activation = 'relu',padding = 'same',kernel_initializer = 'he_normal'))\n",
    "model.add(BatchNormalization())\n",
    "model.add(Conv2D(filters = 128,kernel_size = (3, 3),activation = 'relu',padding = 'same',kernel_initializer = 'he_normal'))\n",
    "model.add(BatchNormalization())\n",
    "model.add(MaxPooling2D(pool_size = (2, 2)))\n",
    "model.add(Dropout(0.4))\n",
    "\n",
    "model.add(Conv2D(filters = 256,kernel_size = (3, 3),activation = 'relu',padding = 'same',kernel_initializer = 'he_normal'))\n",
    "model.add(BatchNormalization())\n",
    "model.add(Conv2D(filters = 256,kernel_size = (3, 3),activation = 'relu',padding = 'same',kernel_initializer = 'he_normal'))\n",
    "model.add(BatchNormalization())\n",
    "model.add(MaxPooling2D(pool_size = (2, 2)))\n",
    "model.add(Dropout(0.4))\n",
    "\n",
    "model.add(Conv2D(filters = 512,kernel_size = (3, 3),activation = 'relu',padding = 'same',kernel_initializer = 'he_normal'))\n",
    "model.add(BatchNormalization())\n",
    "model.add(Conv2D(filters = 512,kernel_size = (3, 3),activation = 'relu',padding = 'same',kernel_initializer = 'he_normal'))\n",
    "model.add(BatchNormalization())\n",
    "model.add(MaxPooling2D(pool_size = (2, 2)))\n",
    "model.add(Dropout(0.25))\n",
    "\n",
    "\n",
    "model.add(Flatten(name='flatten'))       \n",
    "model.add(Dense(512,activation='relu',kernel_initializer='he_normal',))\n",
    "model.add(BatchNormalization())   \n",
    "model.add(Dropout(0.6))\n",
    "model.add(Dense(7,activation='softmax'))"
   ]
  },
  {
   "cell_type": "code",
   "execution_count": 27,
   "id": "062eade3",
   "metadata": {
    "execution": {
     "iopub.execute_input": "2022-12-19T17:24:05.369387Z",
     "iopub.status.busy": "2022-12-19T17:24:05.368963Z",
     "iopub.status.idle": "2022-12-19T17:24:05.386880Z",
     "shell.execute_reply": "2022-12-19T17:24:05.383961Z"
    },
    "papermill": {
     "duration": 0.048575,
     "end_time": "2022-12-19T17:24:05.390503",
     "exception": false,
     "start_time": "2022-12-19T17:24:05.341928",
     "status": "completed"
    },
    "tags": []
   },
   "outputs": [
    {
     "name": "stdout",
     "output_type": "stream",
     "text": [
      "Model: \"sequential\"\n",
      "_________________________________________________________________\n",
      "Layer (type)                 Output Shape              Param #   \n",
      "=================================================================\n",
      "conv2d (Conv2D)              (None, 48, 48, 64)        1664      \n",
      "_________________________________________________________________\n",
      "batch_normalization (BatchNo (None, 48, 48, 64)        256       \n",
      "_________________________________________________________________\n",
      "conv2d_1 (Conv2D)            (None, 48, 48, 64)        102464    \n",
      "_________________________________________________________________\n",
      "batch_normalization_1 (Batch (None, 48, 48, 64)        256       \n",
      "_________________________________________________________________\n",
      "max_pooling2d (MaxPooling2D) (None, 24, 24, 64)        0         \n",
      "_________________________________________________________________\n",
      "dropout (Dropout)            (None, 24, 24, 64)        0         \n",
      "_________________________________________________________________\n",
      "conv2d_2 (Conv2D)            (None, 24, 24, 128)       73856     \n",
      "_________________________________________________________________\n",
      "batch_normalization_2 (Batch (None, 24, 24, 128)       512       \n",
      "_________________________________________________________________\n",
      "conv2d_3 (Conv2D)            (None, 24, 24, 128)       147584    \n",
      "_________________________________________________________________\n",
      "batch_normalization_3 (Batch (None, 24, 24, 128)       512       \n",
      "_________________________________________________________________\n",
      "max_pooling2d_1 (MaxPooling2 (None, 12, 12, 128)       0         \n",
      "_________________________________________________________________\n",
      "dropout_1 (Dropout)          (None, 12, 12, 128)       0         \n",
      "_________________________________________________________________\n",
      "conv2d_4 (Conv2D)            (None, 12, 12, 256)       295168    \n",
      "_________________________________________________________________\n",
      "batch_normalization_4 (Batch (None, 12, 12, 256)       1024      \n",
      "_________________________________________________________________\n",
      "conv2d_5 (Conv2D)            (None, 12, 12, 256)       590080    \n",
      "_________________________________________________________________\n",
      "batch_normalization_5 (Batch (None, 12, 12, 256)       1024      \n",
      "_________________________________________________________________\n",
      "max_pooling2d_2 (MaxPooling2 (None, 6, 6, 256)         0         \n",
      "_________________________________________________________________\n",
      "dropout_2 (Dropout)          (None, 6, 6, 256)         0         \n",
      "_________________________________________________________________\n",
      "conv2d_6 (Conv2D)            (None, 6, 6, 512)         1180160   \n",
      "_________________________________________________________________\n",
      "batch_normalization_6 (Batch (None, 6, 6, 512)         2048      \n",
      "_________________________________________________________________\n",
      "conv2d_7 (Conv2D)            (None, 6, 6, 512)         2359808   \n",
      "_________________________________________________________________\n",
      "batch_normalization_7 (Batch (None, 6, 6, 512)         2048      \n",
      "_________________________________________________________________\n",
      "max_pooling2d_3 (MaxPooling2 (None, 3, 3, 512)         0         \n",
      "_________________________________________________________________\n",
      "dropout_3 (Dropout)          (None, 3, 3, 512)         0         \n",
      "_________________________________________________________________\n",
      "flatten (Flatten)            (None, 4608)              0         \n",
      "_________________________________________________________________\n",
      "dense (Dense)                (None, 512)               2359808   \n",
      "_________________________________________________________________\n",
      "batch_normalization_8 (Batch (None, 512)               2048      \n",
      "_________________________________________________________________\n",
      "dropout_4 (Dropout)          (None, 512)               0         \n",
      "_________________________________________________________________\n",
      "dense_1 (Dense)              (None, 7)                 3591      \n",
      "=================================================================\n",
      "Total params: 7,123,911\n",
      "Trainable params: 7,119,047\n",
      "Non-trainable params: 4,864\n",
      "_________________________________________________________________\n"
     ]
    }
   ],
   "source": [
    "model.summary()"
   ]
  },
  {
   "cell_type": "code",
   "execution_count": 28,
   "id": "fa7baa1c",
   "metadata": {
    "execution": {
     "iopub.execute_input": "2022-12-19T17:24:05.417258Z",
     "iopub.status.busy": "2022-12-19T17:24:05.416465Z",
     "iopub.status.idle": "2022-12-19T17:24:05.428769Z",
     "shell.execute_reply": "2022-12-19T17:24:05.427911Z"
    },
    "papermill": {
     "duration": 0.026013,
     "end_time": "2022-12-19T17:24:05.430990",
     "exception": false,
     "start_time": "2022-12-19T17:24:05.404977",
     "status": "completed"
    },
    "tags": []
   },
   "outputs": [],
   "source": [
    "model.compile(\n",
    "    loss = 'categorical_crossentropy',\n",
    "    optimizer = 'adam',\n",
    "    metrics = ['accuracy']\n",
    ")"
   ]
  },
  {
   "cell_type": "code",
   "execution_count": 29,
   "id": "75195ecf",
   "metadata": {
    "execution": {
     "iopub.execute_input": "2022-12-19T17:24:05.454004Z",
     "iopub.status.busy": "2022-12-19T17:24:05.453748Z",
     "iopub.status.idle": "2022-12-19T17:24:05.458696Z",
     "shell.execute_reply": "2022-12-19T17:24:05.457601Z"
    },
    "papermill": {
     "duration": 0.018664,
     "end_time": "2022-12-19T17:24:05.460666",
     "exception": false,
     "start_time": "2022-12-19T17:24:05.442002",
     "status": "completed"
    },
    "tags": []
   },
   "outputs": [],
   "source": [
    "early_stopping = EarlyStopping(monitor='val_accuracy',\n",
    "    min_delta=0.00005,\n",
    "    patience=11,\n",
    "    verbose=1,\n",
    "    restore_best_weights=True,\n",
    ")\n",
    "\n",
    "lr_scheduler = ReduceLROnPlateau(\n",
    "    monitor='val_accuracy',\n",
    "    factor=0.5,\n",
    "    patience=7,\n",
    "    min_lr=0.00001,\n",
    "    verbose=1,\n",
    ")\n",
    "\n",
    "callbacks = [\n",
    "    early_stopping,\n",
    "    lr_scheduler,\n",
    "]"
   ]
  },
  {
   "cell_type": "code",
   "execution_count": 30,
   "id": "b3b4f6dc",
   "metadata": {
    "execution": {
     "iopub.execute_input": "2022-12-19T17:24:05.483476Z",
     "iopub.status.busy": "2022-12-19T17:24:05.482727Z",
     "iopub.status.idle": "2022-12-19T17:24:05.589679Z",
     "shell.execute_reply": "2022-12-19T17:24:05.588716Z"
    },
    "papermill": {
     "duration": 0.120769,
     "end_time": "2022-12-19T17:24:05.592285",
     "exception": false,
     "start_time": "2022-12-19T17:24:05.471516",
     "status": "completed"
    },
    "tags": []
   },
   "outputs": [],
   "source": [
    "gen = ImageDataGenerator(\n",
    "    rotation_range = 15,\n",
    "    width_shift_range = 0.15,\n",
    "    height_shift_range = 0.15,\n",
    "    shear_range = 0.15,\n",
    "    zoom_range = 0.15,\n",
    "    horizontal_flip = True\n",
    ")\n",
    "gen.fit(X)"
   ]
  },
  {
   "cell_type": "code",
   "execution_count": 31,
   "id": "5ac3baa1",
   "metadata": {
    "execution": {
     "iopub.execute_input": "2022-12-19T17:24:05.616464Z",
     "iopub.status.busy": "2022-12-19T17:24:05.616160Z",
     "iopub.status.idle": "2022-12-19T17:24:05.627904Z",
     "shell.execute_reply": "2022-12-19T17:24:05.627005Z"
    },
    "papermill": {
     "duration": 0.026238,
     "end_time": "2022-12-19T17:24:05.629940",
     "exception": false,
     "start_time": "2022-12-19T17:24:05.603702",
     "status": "completed"
    },
    "tags": []
   },
   "outputs": [
    {
     "data": {
      "text/plain": [
       "array([[[[0.27450982],\n",
       "         [0.3137255 ],\n",
       "         [0.32156864],\n",
       "         ...,\n",
       "         [0.20392157],\n",
       "         [0.16862746],\n",
       "         [0.16078432]],\n",
       "\n",
       "        [[0.25490198],\n",
       "         [0.23921569],\n",
       "         [0.22745098],\n",
       "         ...,\n",
       "         [0.21960784],\n",
       "         [0.20392157],\n",
       "         [0.17254902]],\n",
       "\n",
       "        [[0.19607843],\n",
       "         [0.16862746],\n",
       "         [0.21176471],\n",
       "         ...,\n",
       "         [0.19215687],\n",
       "         [0.21960784],\n",
       "         [0.18431373]],\n",
       "\n",
       "        ...,\n",
       "\n",
       "        [[0.35686275],\n",
       "         [0.25490198],\n",
       "         [0.16470589],\n",
       "         ...,\n",
       "         [0.28235295],\n",
       "         [0.21960784],\n",
       "         [0.16862746]],\n",
       "\n",
       "        [[0.3019608 ],\n",
       "         [0.32156864],\n",
       "         [0.30980393],\n",
       "         ...,\n",
       "         [0.4117647 ],\n",
       "         [0.27450982],\n",
       "         [0.18039216]],\n",
       "\n",
       "        [[0.3019608 ],\n",
       "         [0.28235295],\n",
       "         [0.32941177],\n",
       "         ...,\n",
       "         [0.41568628],\n",
       "         [0.42745098],\n",
       "         [0.32156864]]],\n",
       "\n",
       "\n",
       "       [[[0.5921569 ],\n",
       "         [0.5882353 ],\n",
       "         [0.5764706 ],\n",
       "         ...,\n",
       "         [0.5058824 ],\n",
       "         [0.54901963],\n",
       "         [0.47058824]],\n",
       "\n",
       "        [[0.5921569 ],\n",
       "         [0.58431375],\n",
       "         [0.58431375],\n",
       "         ...,\n",
       "         [0.47843137],\n",
       "         [0.5529412 ],\n",
       "         [0.5372549 ]],\n",
       "\n",
       "        [[0.5921569 ],\n",
       "         [0.5921569 ],\n",
       "         [0.6117647 ],\n",
       "         ...,\n",
       "         [0.42745098],\n",
       "         [0.48235294],\n",
       "         [0.57254905]],\n",
       "\n",
       "        ...,\n",
       "\n",
       "        [[0.7372549 ],\n",
       "         [0.7372549 ],\n",
       "         [0.4745098 ],\n",
       "         ...,\n",
       "         [0.7254902 ],\n",
       "         [0.7254902 ],\n",
       "         [0.7294118 ]],\n",
       "\n",
       "        [[0.7372549 ],\n",
       "         [0.73333335],\n",
       "         [0.76862746],\n",
       "         ...,\n",
       "         [0.7294118 ],\n",
       "         [0.7137255 ],\n",
       "         [0.73333335]],\n",
       "\n",
       "        [[0.7294118 ],\n",
       "         [0.72156864],\n",
       "         [0.7254902 ],\n",
       "         ...,\n",
       "         [0.75686276],\n",
       "         [0.7176471 ],\n",
       "         [0.72156864]]],\n",
       "\n",
       "\n",
       "       [[[0.90588236],\n",
       "         [0.83137256],\n",
       "         [0.6117647 ],\n",
       "         ...,\n",
       "         [0.17254902],\n",
       "         [0.10588235],\n",
       "         [0.0627451 ]],\n",
       "\n",
       "        [[0.8980392 ],\n",
       "         [0.6862745 ],\n",
       "         [0.5803922 ],\n",
       "         ...,\n",
       "         [0.10588235],\n",
       "         [0.13725491],\n",
       "         [0.10588235]],\n",
       "\n",
       "        [[0.8392157 ],\n",
       "         [0.6117647 ],\n",
       "         [0.6156863 ],\n",
       "         ...,\n",
       "         [0.10980392],\n",
       "         [0.08627451],\n",
       "         [0.10980392]],\n",
       "\n",
       "        ...,\n",
       "\n",
       "        [[0.94509804],\n",
       "         [0.9607843 ],\n",
       "         [0.98039216],\n",
       "         ...,\n",
       "         [0.22352941],\n",
       "         [0.39607844],\n",
       "         [0.57254905]],\n",
       "\n",
       "        [[0.9647059 ],\n",
       "         [0.98039216],\n",
       "         [0.9882353 ],\n",
       "         ...,\n",
       "         [0.30588236],\n",
       "         [0.4117647 ],\n",
       "         [0.63529414]],\n",
       "\n",
       "        [[0.98039216],\n",
       "         [0.9843137 ],\n",
       "         [0.98039216],\n",
       "         ...,\n",
       "         [0.34509805],\n",
       "         [0.43137255],\n",
       "         [0.59607846]]],\n",
       "\n",
       "\n",
       "       ...,\n",
       "\n",
       "\n",
       "       [[[0.2901961 ],\n",
       "         [0.31764707],\n",
       "         [0.34117648],\n",
       "         ...,\n",
       "         [0.7411765 ],\n",
       "         [0.7490196 ],\n",
       "         [0.7529412 ]],\n",
       "\n",
       "        [[0.30588236],\n",
       "         [0.32156864],\n",
       "         [0.34901962],\n",
       "         ...,\n",
       "         [0.7254902 ],\n",
       "         [0.7411765 ],\n",
       "         [0.75686276]],\n",
       "\n",
       "        [[0.31764707],\n",
       "         [0.3372549 ],\n",
       "         [0.36862746],\n",
       "         ...,\n",
       "         [0.6901961 ],\n",
       "         [0.7254902 ],\n",
       "         [0.75686276]],\n",
       "\n",
       "        ...,\n",
       "\n",
       "        [[0.3529412 ],\n",
       "         [0.3882353 ],\n",
       "         [0.44313726],\n",
       "         ...,\n",
       "         [0.7529412 ],\n",
       "         [0.7647059 ],\n",
       "         [0.77254903]],\n",
       "\n",
       "        [[0.34509805],\n",
       "         [0.3764706 ],\n",
       "         [0.44705883],\n",
       "         ...,\n",
       "         [0.7529412 ],\n",
       "         [0.7607843 ],\n",
       "         [0.7529412 ]],\n",
       "\n",
       "        [[0.34509805],\n",
       "         [0.38039216],\n",
       "         [0.43137255],\n",
       "         ...,\n",
       "         [0.7372549 ],\n",
       "         [0.73333335],\n",
       "         [0.73333335]]],\n",
       "\n",
       "\n",
       "       [[[0.87058824],\n",
       "         [0.8901961 ],\n",
       "         [0.79607844],\n",
       "         ...,\n",
       "         [0.5411765 ],\n",
       "         [0.5176471 ],\n",
       "         [0.47843137]],\n",
       "\n",
       "        [[0.87058824],\n",
       "         [0.8862745 ],\n",
       "         [0.79607844],\n",
       "         ...,\n",
       "         [0.5568628 ],\n",
       "         [0.53333336],\n",
       "         [0.49803922]],\n",
       "\n",
       "        [[0.87058824],\n",
       "         [0.88235295],\n",
       "         [0.80784315],\n",
       "         ...,\n",
       "         [0.5764706 ],\n",
       "         [0.56078434],\n",
       "         [0.5058824 ]],\n",
       "\n",
       "        ...,\n",
       "\n",
       "        [[0.7019608 ],\n",
       "         [0.7058824 ],\n",
       "         [0.69411767],\n",
       "         ...,\n",
       "         [0.5529412 ],\n",
       "         [0.54509807],\n",
       "         [0.5372549 ]],\n",
       "\n",
       "        [[0.7372549 ],\n",
       "         [0.7137255 ],\n",
       "         [0.6901961 ],\n",
       "         ...,\n",
       "         [0.5411765 ],\n",
       "         [0.53333336],\n",
       "         [0.5294118 ]],\n",
       "\n",
       "        [[0.70980394],\n",
       "         [0.65882355],\n",
       "         [0.60784316],\n",
       "         ...,\n",
       "         [0.53333336],\n",
       "         [0.53333336],\n",
       "         [0.5254902 ]]],\n",
       "\n",
       "\n",
       "       [[[0.7647059 ],\n",
       "         [0.78039217],\n",
       "         [0.8039216 ],\n",
       "         ...,\n",
       "         [0.7137255 ],\n",
       "         [0.54901963],\n",
       "         [0.3019608 ]],\n",
       "\n",
       "        [[0.75686276],\n",
       "         [0.76862746],\n",
       "         [0.7921569 ],\n",
       "         ...,\n",
       "         [0.77254903],\n",
       "         [0.64705884],\n",
       "         [0.4117647 ]],\n",
       "\n",
       "        [[0.7764706 ],\n",
       "         [0.78431374],\n",
       "         [0.8       ],\n",
       "         ...,\n",
       "         [0.8156863 ],\n",
       "         [0.76862746],\n",
       "         [0.6156863 ]],\n",
       "\n",
       "        ...,\n",
       "\n",
       "        [[0.22352941],\n",
       "         [0.28627452],\n",
       "         [0.32941177],\n",
       "         ...,\n",
       "         [0.01176471],\n",
       "         [0.07843138],\n",
       "         [0.12941177]],\n",
       "\n",
       "        [[0.23921569],\n",
       "         [0.28627452],\n",
       "         [0.3764706 ],\n",
       "         ...,\n",
       "         [0.02352941],\n",
       "         [0.07450981],\n",
       "         [0.16078432]],\n",
       "\n",
       "        [[0.23921569],\n",
       "         [0.30980393],\n",
       "         [0.37254903],\n",
       "         ...,\n",
       "         [0.02352941],\n",
       "         [0.05882353],\n",
       "         [0.14901961]]]], dtype=float32)"
      ]
     },
     "execution_count": 31,
     "metadata": {},
     "output_type": "execute_result"
    }
   ],
   "source": [
    "X"
   ]
  },
  {
   "cell_type": "code",
   "execution_count": null,
   "id": "3c167b01",
   "metadata": {
    "papermill": {
     "duration": 0.010791,
     "end_time": "2022-12-19T17:24:05.652453",
     "exception": false,
     "start_time": "2022-12-19T17:24:05.641662",
     "status": "completed"
    },
    "tags": []
   },
   "outputs": [],
   "source": []
  },
  {
   "cell_type": "markdown",
   "id": "91d9cd88",
   "metadata": {
    "papermill": {
     "duration": 0.010599,
     "end_time": "2022-12-19T17:24:05.673930",
     "exception": false,
     "start_time": "2022-12-19T17:24:05.663331",
     "status": "completed"
    },
    "tags": []
   },
   "source": [
    "# Applying stratified K-fold accuracy"
   ]
  },
  {
   "cell_type": "code",
   "execution_count": 32,
   "id": "624971be",
   "metadata": {
    "execution": {
     "iopub.execute_input": "2022-12-19T17:24:05.697266Z",
     "iopub.status.busy": "2022-12-19T17:24:05.696521Z",
     "iopub.status.idle": "2022-12-19T17:24:05.701276Z",
     "shell.execute_reply": "2022-12-19T17:24:05.700147Z"
    },
    "papermill": {
     "duration": 0.018216,
     "end_time": "2022-12-19T17:24:05.703203",
     "exception": false,
     "start_time": "2022-12-19T17:24:05.684987",
     "status": "completed"
    },
    "tags": []
   },
   "outputs": [],
   "source": [
    "from sklearn.model_selection import StratifiedKFold\n",
    "skf = StratifiedKFold(n_splits=10, shuffle=True, random_state=1) \n",
    "lst_accu_stratified = []"
   ]
  },
  {
   "cell_type": "code",
   "execution_count": 33,
   "id": "6e0063ae",
   "metadata": {
    "execution": {
     "iopub.execute_input": "2022-12-19T17:24:05.726222Z",
     "iopub.status.busy": "2022-12-19T17:24:05.725497Z",
     "iopub.status.idle": "2022-12-19T17:24:05.732502Z",
     "shell.execute_reply": "2022-12-19T17:24:05.731501Z"
    },
    "papermill": {
     "duration": 0.020569,
     "end_time": "2022-12-19T17:24:05.734578",
     "exception": false,
     "start_time": "2022-12-19T17:24:05.714009",
     "status": "completed"
    },
    "tags": []
   },
   "outputs": [
    {
     "data": {
      "text/plain": [
       "array([[1., 0., 0., ..., 0., 0., 0.],\n",
       "       [1., 0., 0., ..., 0., 0., 0.],\n",
       "       [0., 0., 1., ..., 0., 0., 0.],\n",
       "       ...,\n",
       "       [0., 0., 0., ..., 1., 0., 0.],\n",
       "       [1., 0., 0., ..., 0., 0., 0.],\n",
       "       [0., 0., 0., ..., 1., 0., 0.]], dtype=float32)"
      ]
     },
     "execution_count": 33,
     "metadata": {},
     "output_type": "execute_result"
    }
   ],
   "source": [
    "img_labels"
   ]
  },
  {
   "cell_type": "code",
   "execution_count": 34,
   "id": "2c5d827c",
   "metadata": {
    "execution": {
     "iopub.execute_input": "2022-12-19T17:24:05.758141Z",
     "iopub.status.busy": "2022-12-19T17:24:05.757872Z",
     "iopub.status.idle": "2022-12-19T17:37:23.940971Z",
     "shell.execute_reply": "2022-12-19T17:37:23.940082Z"
    },
    "papermill": {
     "duration": 798.453104,
     "end_time": "2022-12-19T17:37:24.199384",
     "exception": false,
     "start_time": "2022-12-19T17:24:05.746280",
     "status": "completed"
    },
    "tags": []
   },
   "outputs": [
    {
     "name": "stderr",
     "output_type": "stream",
     "text": [
      "2022-12-19 17:24:06.347861: I tensorflow/compiler/mlir/mlir_graph_optimization_pass.cc:185] None of the MLIR Optimization Passes are enabled (registered 2)\n"
     ]
    },
    {
     "name": "stdout",
     "output_type": "stream",
     "text": [
      "Epoch 1/5\n"
     ]
    },
    {
     "name": "stderr",
     "output_type": "stream",
     "text": [
      "2022-12-19 17:24:08.624929: I tensorflow/stream_executor/cuda/cuda_dnn.cc:369] Loaded cuDNN version 8005\n"
     ]
    },
    {
     "name": "stdout",
     "output_type": "stream",
     "text": [
      "808/808 [==============================] - 22s 17ms/step - loss: 2.0449 - accuracy: 0.2871\n",
      "Epoch 2/5\n",
      "808/808 [==============================] - 14s 17ms/step - loss: 1.5721 - accuracy: 0.3981\n",
      "Epoch 3/5\n",
      "808/808 [==============================] - 14s 17ms/step - loss: 1.3573 - accuracy: 0.4779\n",
      "Epoch 4/5\n",
      "808/808 [==============================] - 14s 17ms/step - loss: 1.2540 - accuracy: 0.5216\n",
      "Epoch 5/5\n",
      "808/808 [==============================] - 14s 17ms/step - loss: 1.1844 - accuracy: 0.5520\n",
      "90/90 [==============================] - 1s 8ms/step - loss: 1.1902 - accuracy: 0.5545\n",
      "Epoch 1/5\n",
      "808/808 [==============================] - 14s 17ms/step - loss: 1.1358 - accuracy: 0.5751\n",
      "Epoch 2/5\n",
      "808/808 [==============================] - 14s 17ms/step - loss: 1.0959 - accuracy: 0.5880\n",
      "Epoch 3/5\n",
      "808/808 [==============================] - 14s 17ms/step - loss: 1.0440 - accuracy: 0.6089\n",
      "Epoch 4/5\n",
      "808/808 [==============================] - 14s 18ms/step - loss: 1.0134 - accuracy: 0.6204\n",
      "Epoch 5/5\n",
      "808/808 [==============================] - 14s 17ms/step - loss: 0.9386 - accuracy: 0.6513\n",
      "90/90 [==============================] - 1s 7ms/step - loss: 1.0507 - accuracy: 0.6214\n",
      "Epoch 1/5\n",
      "808/808 [==============================] - 14s 17ms/step - loss: 0.9113 - accuracy: 0.6665\n",
      "Epoch 2/5\n",
      "808/808 [==============================] - 14s 17ms/step - loss: 0.8396 - accuracy: 0.6916\n",
      "Epoch 3/5\n",
      "808/808 [==============================] - 14s 17ms/step - loss: 0.7876 - accuracy: 0.7083\n",
      "Epoch 4/5\n",
      "808/808 [==============================] - 14s 17ms/step - loss: 0.7068 - accuracy: 0.7444\n",
      "Epoch 5/5\n",
      "808/808 [==============================] - 14s 17ms/step - loss: 0.6457 - accuracy: 0.7670\n",
      "90/90 [==============================] - 1s 7ms/step - loss: 0.9031 - accuracy: 0.6806\n",
      "Epoch 1/5\n",
      "808/808 [==============================] - 14s 17ms/step - loss: 0.6288 - accuracy: 0.7746\n",
      "Epoch 2/5\n",
      "808/808 [==============================] - 14s 17ms/step - loss: 0.5654 - accuracy: 0.7974\n",
      "Epoch 3/5\n",
      "808/808 [==============================] - 14s 17ms/step - loss: 0.5090 - accuracy: 0.8172\n",
      "Epoch 4/5\n",
      "808/808 [==============================] - 14s 17ms/step - loss: 0.4616 - accuracy: 0.8378\n",
      "Epoch 5/5\n",
      "808/808 [==============================] - 14s 17ms/step - loss: 0.4247 - accuracy: 0.8474\n",
      "90/90 [==============================] - 1s 6ms/step - loss: 0.6330 - accuracy: 0.7959\n",
      "Epoch 1/5\n",
      "808/808 [==============================] - 14s 17ms/step - loss: 0.4457 - accuracy: 0.8435\n",
      "Epoch 2/5\n",
      "808/808 [==============================] - 14s 17ms/step - loss: 0.4068 - accuracy: 0.8601\n",
      "Epoch 3/5\n",
      "808/808 [==============================] - 14s 17ms/step - loss: 0.3565 - accuracy: 0.8749\n",
      "Epoch 4/5\n",
      "808/808 [==============================] - 14s 17ms/step - loss: 0.3327 - accuracy: 0.8820\n",
      "Epoch 5/5\n",
      "808/808 [==============================] - 14s 17ms/step - loss: 0.3093 - accuracy: 0.8907\n",
      "90/90 [==============================] - 1s 6ms/step - loss: 0.4607 - accuracy: 0.8568\n",
      "Epoch 1/5\n",
      "808/808 [==============================] - 14s 17ms/step - loss: 0.3596 - accuracy: 0.8758\n",
      "Epoch 2/5\n",
      "808/808 [==============================] - 14s 17ms/step - loss: 0.2945 - accuracy: 0.8955\n",
      "Epoch 3/5\n",
      "808/808 [==============================] - 14s 17ms/step - loss: 0.2667 - accuracy: 0.9086\n",
      "Epoch 4/5\n",
      "808/808 [==============================] - 14s 17ms/step - loss: 0.3138 - accuracy: 0.8895\n",
      "Epoch 5/5\n",
      "808/808 [==============================] - 14s 17ms/step - loss: 0.2436 - accuracy: 0.9151\n",
      "90/90 [==============================] - 1s 7ms/step - loss: 0.2510 - accuracy: 0.9129\n",
      "Epoch 1/5\n",
      "808/808 [==============================] - 14s 17ms/step - loss: 0.2953 - accuracy: 0.8983\n",
      "Epoch 2/5\n",
      "808/808 [==============================] - 14s 17ms/step - loss: 0.2490 - accuracy: 0.9134\n",
      "Epoch 3/5\n",
      "808/808 [==============================] - 14s 17ms/step - loss: 0.2167 - accuracy: 0.9271\n",
      "Epoch 4/5\n",
      "808/808 [==============================] - 14s 17ms/step - loss: 0.2112 - accuracy: 0.9283\n",
      "Epoch 5/5\n",
      "808/808 [==============================] - 14s 17ms/step - loss: 0.2174 - accuracy: 0.9221\n",
      "90/90 [==============================] - 1s 7ms/step - loss: 0.1487 - accuracy: 0.9523\n",
      "Epoch 1/5\n",
      "808/808 [==============================] - 14s 17ms/step - loss: 0.2141 - accuracy: 0.9270\n",
      "Epoch 2/5\n",
      "808/808 [==============================] - 14s 18ms/step - loss: 0.2004 - accuracy: 0.9314\n",
      "Epoch 3/5\n",
      "808/808 [==============================] - 14s 18ms/step - loss: 0.1853 - accuracy: 0.9359\n",
      "Epoch 4/5\n",
      "808/808 [==============================] - 14s 17ms/step - loss: 0.1873 - accuracy: 0.9358\n",
      "Epoch 5/5\n",
      "808/808 [==============================] - 14s 17ms/step - loss: 0.1814 - accuracy: 0.9380\n",
      "90/90 [==============================] - 1s 7ms/step - loss: 0.1316 - accuracy: 0.9592\n",
      "Epoch 1/5\n",
      "808/808 [==============================] - 14s 17ms/step - loss: 0.1874 - accuracy: 0.9360\n",
      "Epoch 2/5\n",
      "808/808 [==============================] - 14s 17ms/step - loss: 0.1739 - accuracy: 0.9390\n",
      "Epoch 3/5\n",
      "808/808 [==============================] - 14s 17ms/step - loss: 0.1741 - accuracy: 0.9416\n",
      "Epoch 4/5\n",
      "808/808 [==============================] - 14s 18ms/step - loss: 0.1500 - accuracy: 0.9484\n",
      "Epoch 5/5\n",
      "808/808 [==============================] - 14s 17ms/step - loss: 0.1540 - accuracy: 0.9464\n",
      "90/90 [==============================] - 1s 6ms/step - loss: 0.0804 - accuracy: 0.9794\n",
      "Epoch 1/5\n",
      "808/808 [==============================] - 14s 18ms/step - loss: 0.1668 - accuracy: 0.9443\n",
      "Epoch 2/5\n",
      "808/808 [==============================] - 14s 17ms/step - loss: 0.1464 - accuracy: 0.9488\n",
      "Epoch 3/5\n",
      "808/808 [==============================] - 14s 18ms/step - loss: 0.1481 - accuracy: 0.9500\n",
      "Epoch 4/5\n",
      "808/808 [==============================] - 14s 17ms/step - loss: 0.1359 - accuracy: 0.9552\n",
      "Epoch 5/5\n",
      "808/808 [==============================] - 14s 17ms/step - loss: 0.1314 - accuracy: 0.9560\n",
      "90/90 [==============================] - 1s 9ms/step - loss: 0.7270 - accuracy: 0.9045\n"
     ]
    }
   ],
   "source": [
    "y = img_labels\n",
    "for train_index, test_index in skf.split(X, y.argmax(1)): \n",
    "    X_train_fold, X_test_fold = X[train_index], X[test_index] \n",
    "    y_train_fold, y_test_fold = y[train_index], y[test_index] \n",
    "    history = model.fit(X_train_fold, y_train_fold,epochs=5,callbacks=callbacks,batch_size=32) \n",
    "    lst_accu_stratified.append(model.evaluate(X_test_fold, y_test_fold))\n",
    "    \n",
    "    plt.show()"
   ]
  },
  {
   "cell_type": "code",
   "execution_count": 35,
   "id": "aafb6c0f",
   "metadata": {
    "execution": {
     "iopub.execute_input": "2022-12-19T17:37:25.911486Z",
     "iopub.status.busy": "2022-12-19T17:37:25.911136Z",
     "iopub.status.idle": "2022-12-19T17:37:25.916616Z",
     "shell.execute_reply": "2022-12-19T17:37:25.915702Z"
    },
    "papermill": {
     "duration": 0.779454,
     "end_time": "2022-12-19T17:37:25.918730",
     "exception": false,
     "start_time": "2022-12-19T17:37:25.139276",
     "status": "completed"
    },
    "tags": []
   },
   "outputs": [
    {
     "name": "stdout",
     "output_type": "stream",
     "text": [
      "[[1.1901960372924805, 0.5545106530189514], [1.0506678819656372, 0.6213862895965576], [0.9031367897987366, 0.6805990934371948], [0.6330339312553406, 0.7958899140357971], [0.4606667459011078, 0.8568443059921265], [0.2509930729866028, 0.9129223227500916], [0.14867769181728363, 0.9522814154624939], [0.1316213309764862, 0.9592476487159729], [0.0804232731461525, 0.9794496893882751], [0.7270168662071228, 0.9045296311378479]]\n"
     ]
    }
   ],
   "source": [
    "print(lst_accu_stratified)"
   ]
  },
  {
   "cell_type": "code",
   "execution_count": 36,
   "id": "a7ed0883",
   "metadata": {
    "execution": {
     "iopub.execute_input": "2022-12-19T17:37:27.369756Z",
     "iopub.status.busy": "2022-12-19T17:37:27.369185Z",
     "iopub.status.idle": "2022-12-19T17:37:27.377625Z",
     "shell.execute_reply": "2022-12-19T17:37:27.376702Z"
    },
    "papermill": {
     "duration": 0.763504,
     "end_time": "2022-12-19T17:37:27.379669",
     "exception": false,
     "start_time": "2022-12-19T17:37:26.616165",
     "status": "completed"
    },
    "tags": []
   },
   "outputs": [
    {
     "name": "stdout",
     "output_type": "stream",
     "text": [
      "Accuracy 0.8217660963535309\n"
     ]
    }
   ],
   "source": [
    "acc = 0\n",
    "for i in lst_accu_stratified:\n",
    "    acc = acc+i[1]\n",
    "print(\"Accuracy\",acc/len(lst_accu_stratified))"
   ]
  }
 ],
 "metadata": {
  "kernelspec": {
   "display_name": "Python 3",
   "language": "python",
   "name": "python3"
  },
  "language_info": {
   "codemirror_mode": {
    "name": "ipython",
    "version": 3
   },
   "file_extension": ".py",
   "mimetype": "text/x-python",
   "name": "python",
   "nbconvert_exporter": "python",
   "pygments_lexer": "ipython3",
   "version": "3.7.12"
  },
  "papermill": {
   "default_parameters": {},
   "duration": 864.683772,
   "end_time": "2022-12-19T17:37:31.589752",
   "environment_variables": {},
   "exception": null,
   "input_path": "__notebook__.ipynb",
   "output_path": "__notebook__.ipynb",
   "parameters": {},
   "start_time": "2022-12-19T17:23:06.905980",
   "version": "2.3.4"
  }
 },
 "nbformat": 4,
 "nbformat_minor": 5
}
